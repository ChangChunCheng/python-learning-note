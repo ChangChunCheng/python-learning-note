{
 "cells": [
  {
   "cell_type": "markdown",
   "metadata": {},
   "source": [
    "# Python Data Types\n",
    "\n",
    "**變數型態**:\n",
    "\n",
    "整數、小數、複數、文字、序列、字典、集合...等，不同的變數型態可使用運算的方式不同。\n",
    "\n",
    "例：\n",
    "字串不可用加法： 我 + 你 = ?\n",
    "\n",
    "Python常用變數型態有14種：\n",
    "\n",
    "int, float, complex, str, list, tuple, dict, set, range, frozenset, bool, bytes, bytearray and memoryview.\n",
    "\n",
    "每一種型態皆有不同的運算方式，本篇筆記中將紀錄int, float, complex, str, list, tuple, dict, set, range, bool如何使用。"
   ]
  },
  {
   "cell_type": "code",
   "execution_count": 1,
   "metadata": {},
   "outputs": [
    {
     "name": "stdout",
     "output_type": "stream",
     "text": [
      "Type of x: <class 'int'>\n",
      "Type of y: <class 'complex'>\n"
     ]
    }
   ],
   "source": [
    "# 取得變數型態\n",
    "x = 5\n",
    "print('Type of x: {}'.format(type(x)))\n",
    "y = 2+1j\n",
    "print('Type of y: {}'.format(type(y)))"
   ]
  },
  {
   "cell_type": "markdown",
   "metadata": {},
   "source": [
    "**備註**：有關print()中的文字，在字串筆記會表示解釋。"
   ]
  },
  {
   "cell_type": "markdown",
   "metadata": {},
   "source": [
    "# Python Number\n",
    "\n",
    "**數值型態**:\n",
    "\n",
    "可用於進行數值運算的變數型態。\n",
    "\n",
    "- int integer, 整數\n",
    " - 可為正數、負數\n",
    "- float , 浮點數\n",
    " - 含小數之數值，皆為浮點數\n",
    "- complex , 複數\n",
    " - 含虛數"
   ]
  },
  {
   "cell_type": "code",
   "execution_count": 2,
   "metadata": {},
   "outputs": [
    {
     "name": "stdout",
     "output_type": "stream",
     "text": [
      "<class 'int'>\n",
      "<class 'int'>\n",
      "<class 'float'>\n",
      "<class 'float'>\n",
      "<class 'complex'>\n",
      "<class 'complex'>\n"
     ]
    }
   ],
   "source": [
    "x1 = 1\n",
    "print(type(x1))\n",
    "x2 = -1\n",
    "print(type(x2))\n",
    "\n",
    "y1 = 2.8\n",
    "print(type(y1))\n",
    "y2 = -2.7\n",
    "print(type(y2))\n",
    "\n",
    "z1 = 1j\n",
    "print(type(z1))\n",
    "z2 = 5+7j\n",
    "print(type(z2))"
   ]
  },
  {
   "cell_type": "code",
   "execution_count": 3,
   "metadata": {},
   "outputs": [
    {
     "name": "stdout",
     "output_type": "stream",
     "text": [
      "200000.0\n",
      "<class 'float'>\n"
     ]
    }
   ],
   "source": [
    "xxx1 = 2E5\n",
    "print(xxx1)\n",
    "print(type(xxx1))"
   ]
  },
  {
   "cell_type": "code",
   "execution_count": 4,
   "metadata": {},
   "outputs": [
    {
     "name": "stdout",
     "output_type": "stream",
     "text": [
      "5e+100\n",
      "<class 'float'>\n"
     ]
    }
   ],
   "source": [
    "xxx2 = 5e100\n",
    "print(xxx2)\n",
    "print(type(xxx2))"
   ]
  },
  {
   "cell_type": "code",
   "execution_count": 5,
   "metadata": {},
   "outputs": [
    {
     "name": "stdout",
     "output_type": "stream",
     "text": [
      "-2380000.0\n",
      "<class 'float'>\n"
     ]
    }
   ],
   "source": [
    "yyy1 = -23.8E5\n",
    "print(yyy1)\n",
    "print(type(yyy1))"
   ]
  },
  {
   "cell_type": "code",
   "execution_count": 6,
   "metadata": {},
   "outputs": [
    {
     "name": "stdout",
     "output_type": "stream",
     "text": [
      "-8.77e+101\n",
      "<class 'float'>\n"
     ]
    }
   ],
   "source": [
    "yyy2 = -87.7e100\n",
    "print(yyy2)\n",
    "print(type(yyy2))"
   ]
  },
  {
   "cell_type": "markdown",
   "metadata": {},
   "source": [
    "## 浮點數運算誤差\n",
    "\n",
    "在電腦領域中，所有的「值」皆會使用「二進制」 (0, 1) 表示與運算。\n",
    "\n",
    "文字：以0, 1組成的代碼表示\n",
    "\n",
    "數值：以近似值表示，例如：$0.1 = \\frac{1}{16}+\\frac{1}{32}+\\frac{1}{256}+\\frac{1}{512}+...$\n",
    "\n",
    "$0.1 = (\\frac{1}{2})^{-4}+(\\frac{1}{2})^{-5}+(\\frac{1}{2})^{-8}+(\\frac{1}{2})^{-9}$"
   ]
  },
  {
   "cell_type": "code",
   "execution_count": 7,
   "metadata": {},
   "outputs": [
    {
     "data": {
      "text/plain": [
       "1.0999999999999999"
      ]
     },
     "execution_count": 7,
     "metadata": {},
     "output_type": "execute_result"
    }
   ],
   "source": [
    "2.4 - 1.3"
   ]
  },
  {
   "cell_type": "code",
   "execution_count": 8,
   "metadata": {},
   "outputs": [
    {
     "data": {
      "text/plain": [
       "0.1"
      ]
     },
     "execution_count": 8,
     "metadata": {},
     "output_type": "execute_result"
    }
   ],
   "source": [
    "1 / 10"
   ]
  },
  {
   "cell_type": "markdown",
   "metadata": {},
   "source": [
    "### 解決辦法\n",
    "\n",
    "使用round()函數，進行四捨五入運算。\n",
    "\n",
    "備註：函數為將一系列程式運算包裝在一起，透過一個名稱取代運算過程。將在「函數」章節筆記。"
   ]
  },
  {
   "cell_type": "code",
   "execution_count": 9,
   "metadata": {},
   "outputs": [
    {
     "data": {
      "text/plain": [
       "1.1"
      ]
     },
     "execution_count": 9,
     "metadata": {},
     "output_type": "execute_result"
    }
   ],
   "source": [
    "round(2.4 - 1.3, 1)"
   ]
  },
  {
   "cell_type": "code",
   "execution_count": 10,
   "metadata": {},
   "outputs": [
    {
     "data": {
      "text/plain": [
       "0.30000000000000004"
      ]
     },
     "execution_count": 10,
     "metadata": {},
     "output_type": "execute_result"
    }
   ],
   "source": [
    "0.1 + 0.1 + 0.1"
   ]
  },
  {
   "cell_type": "code",
   "execution_count": 11,
   "metadata": {},
   "outputs": [
    {
     "data": {
      "text/plain": [
       "0.3"
      ]
     },
     "execution_count": 11,
     "metadata": {},
     "output_type": "execute_result"
    }
   ],
   "source": [
    "round(0.1 + 0.1 + 0.1, 1)"
   ]
  },
  {
   "cell_type": "markdown",
   "metadata": {},
   "source": [
    "# Python String\n",
    "\n",
    "**字串型態**:\n",
    "\n",
    "用於記錄文字內容的型態。\n",
    "\n",
    "Python中的字串，給定值時需透過一組單引號「'」或雙引號「\"」框起來，以表示引號內為「值」而非「變數」。\n",
    "\n",
    "Python中也支援透過一組連續三單/雙引號「'」或「\"」，將一組多行字的字串變成一字串變數。"
   ]
  },
  {
   "cell_type": "code",
   "execution_count": 12,
   "metadata": {},
   "outputs": [
    {
     "name": "stdout",
     "output_type": "stream",
     "text": [
      "Hello\n"
     ]
    }
   ],
   "source": [
    "x = \"Hello\" # x為內容為 Hello 的變數\n",
    "print(x)"
   ]
  },
  {
   "cell_type": "code",
   "execution_count": 13,
   "metadata": {},
   "outputs": [
    {
     "ename": "SyntaxError",
     "evalue": "EOL while scanning string literal (<ipython-input-13-60a7e23f21dc>, line 2)",
     "output_type": "error",
     "traceback": [
      "\u001b[0;36m  File \u001b[0;32m\"<ipython-input-13-60a7e23f21dc>\"\u001b[0;36m, line \u001b[0;32m2\u001b[0m\n\u001b[0;31m    x = \"Hello\u001b[0m\n\u001b[0m               ^\u001b[0m\n\u001b[0;31mSyntaxError\u001b[0m\u001b[0;31m:\u001b[0m EOL while scanning string literal\n"
     ]
    }
   ],
   "source": [
    "# 單個引號組不能分行表示字串內容\n",
    "x = \"Hello \n",
    "World\n",
    "!\n",
    "\"\n",
    "print(x)"
   ]
  },
  {
   "cell_type": "code",
   "execution_count": 14,
   "metadata": {},
   "outputs": [
    {
     "name": "stdout",
     "output_type": "stream",
     "text": [
      "\n",
      "Hello\n",
      "World\n",
      "!\n",
      "\n"
     ]
    }
   ],
   "source": [
    "x = \"\"\"\n",
    "Hello\n",
    "World\n",
    "!\n",
    "\"\"\"\n",
    "print(x)"
   ]
  },
  {
   "cell_type": "markdown",
   "metadata": {},
   "source": [
    "# Python Booleans\n",
    "\n",
    "**布林型態**：\n",
    "\n",
    "僅有True和False兩個值。\n",
    "\n",
    "**特別用法**:\n",
    "- 以數值表示booleans，0為「偽」、非0為「真」\n",
    "- 以字串表示booleans，空字串為「偽」、非空字串為「真」\n",
    "\n",
    "**Notice**: ' '為「一個空白組成的字串」，而非「空字串」('')"
   ]
  },
  {
   "cell_type": "code",
   "execution_count": 15,
   "metadata": {},
   "outputs": [
    {
     "name": "stdout",
     "output_type": "stream",
     "text": [
      "False\n",
      "True\n",
      "True\n",
      "True\n",
      "True\n"
     ]
    }
   ],
   "source": [
    "print(bool(0))\n",
    "print(bool(1))\n",
    "print(bool(46235))\n",
    "print(bool(-1))\n",
    "print(bool(-3254236))"
   ]
  },
  {
   "cell_type": "code",
   "execution_count": 16,
   "metadata": {},
   "outputs": [
    {
     "name": "stdout",
     "output_type": "stream",
     "text": [
      "False\n",
      "True\n"
     ]
    }
   ],
   "source": [
    "print(bool(''))\n",
    "print(bool('shwh'))"
   ]
  },
  {
   "cell_type": "code",
   "execution_count": 17,
   "metadata": {},
   "outputs": [
    {
     "name": "stdout",
     "output_type": "stream",
     "text": [
      "True\n"
     ]
    }
   ],
   "source": [
    "print(bool(' '))"
   ]
  },
  {
   "cell_type": "markdown",
   "metadata": {},
   "source": [
    "# Python Operators\n",
    "\n",
    "**運算子**:\n",
    "\n",
    "用於表示運算的符號。\n",
    "\n",
    "常見運算符號有：\n",
    "- \\+ 加\n",
    "- \\- 減\n",
    "- \\* 乘\n",
    "- \\/ 除\n",
    "- \\% 餘數\n",
    "- \\** or \\^ 次方\n",
    "- \\// 商數\n",
    "- \\& 且\n",
    "- \\| 或\n",
    "\n",
    "位元運算:\n",
    "- \\>> 位元向右平移\n",
    "- \\<< 位元向左平移"
   ]
  },
  {
   "cell_type": "code",
   "execution_count": 18,
   "metadata": {},
   "outputs": [
    {
     "name": "stdout",
     "output_type": "stream",
     "text": [
      "5\n",
      "1\n",
      "6\n",
      "1.5\n",
      "1\n",
      "9\n",
      "1\n",
      "False\n",
      "True\n"
     ]
    }
   ],
   "source": [
    "print(3+2)\n",
    "print(3-2)\n",
    "print(3*2)\n",
    "print(3/2)\n",
    "print(3%2)\n",
    "print(3**2)\n",
    "print(3//2)\n",
    "print(True & False)\n",
    "print(True | False)"
   ]
  },
  {
   "cell_type": "code",
   "execution_count": 19,
   "metadata": {},
   "outputs": [
    {
     "name": "stdout",
     "output_type": "stream",
     "text": [
      "嗨囉！\n",
      "嗨嗨嗨\n"
     ]
    }
   ],
   "source": [
    "print(\"嗨\"+\"囉\"+\"！\")\n",
    "print(\"嗨\"*3)"
   ]
  },
  {
   "cell_type": "code",
   "execution_count": 20,
   "metadata": {},
   "outputs": [
    {
     "ename": "TypeError",
     "evalue": "unsupported operand type(s) for &: 'str' and 'str'",
     "output_type": "error",
     "traceback": [
      "\u001b[0;31m---------------------------------------------------------------------------\u001b[0m",
      "\u001b[0;31mTypeError\u001b[0m                                 Traceback (most recent call last)",
      "\u001b[0;32m<ipython-input-20-764ab29cd51a>\u001b[0m in \u001b[0;36m<module>\u001b[0;34m\u001b[0m\n\u001b[0;32m----> 1\u001b[0;31m \u001b[0mprint\u001b[0m\u001b[0;34m(\u001b[0m\u001b[0;34m\"嗨\"\u001b[0m \u001b[0;34m&\u001b[0m \u001b[0;34m\"囉\"\u001b[0m\u001b[0;34m)\u001b[0m\u001b[0;34m\u001b[0m\u001b[0;34m\u001b[0m\u001b[0m\n\u001b[0m",
      "\u001b[0;31mTypeError\u001b[0m: unsupported operand type(s) for &: 'str' and 'str'"
     ]
    }
   ],
   "source": [
    "print(\"嗨\" & \"囉\")"
   ]
  },
  {
   "cell_type": "code",
   "execution_count": 21,
   "metadata": {},
   "outputs": [
    {
     "ename": "TypeError",
     "evalue": "unsupported operand type(s) for -: 'str' and 'str'",
     "output_type": "error",
     "traceback": [
      "\u001b[0;31m---------------------------------------------------------------------------\u001b[0m",
      "\u001b[0;31mTypeError\u001b[0m                                 Traceback (most recent call last)",
      "\u001b[0;32m<ipython-input-21-f5484ca29ebb>\u001b[0m in \u001b[0;36m<module>\u001b[0;34m\u001b[0m\n\u001b[0;32m----> 1\u001b[0;31m \u001b[0mprint\u001b[0m\u001b[0;34m(\u001b[0m\u001b[0;34m\"嗨嗨\"\u001b[0m \u001b[0;34m-\u001b[0m \u001b[0;34m\"嗨\"\u001b[0m\u001b[0;34m)\u001b[0m\u001b[0;34m\u001b[0m\u001b[0;34m\u001b[0m\u001b[0m\n\u001b[0m",
      "\u001b[0;31mTypeError\u001b[0m: unsupported operand type(s) for -: 'str' and 'str'"
     ]
    }
   ],
   "source": [
    "print(\"嗨嗨\" - \"嗨\")"
   ]
  },
  {
   "cell_type": "markdown",
   "metadata": {},
   "source": [
    "## 位元平移運算子\n",
    "\n",
    "在電腦中，所有數值皆是以二進制 (0, 1) 表式，例如：\n",
    "\n",
    "$(2)_{10} = (00000010)_{2}$\n",
    "\n",
    "$(5)_{10} = (00000101)_{2}$\n",
    "\n",
    "「2>>1」表示，將2的位元值向右平移1單位。即$(00000010)_{2}$變為$(0000001)_{2}$。此時，因為平移後，最左邊少了「1」位元，直接補0來表示一個完整值。所以，「2>>1」運算結果為$(00000001)_{2}$，此值又等於$(1)_{10}$。\n",
    "\n",
    "由上述可知，\n",
    "- Ex1:「5>>1」等於$(00000101)_{2}$ >> 1，則為$(00000010)_{2}$，結果等於$(2)_{10}$。\n",
    "- Ex2:「5>>2」等於$(00000101)_{2}$ >> 2，則為$(00000001)_{2}$，結果等於$(1)_{10}$。\n",
    "\n",
    "**補充**:\n",
    "可以使用bin()函數將值轉為二進制。"
   ]
  },
  {
   "cell_type": "code",
   "execution_count": 22,
   "metadata": {},
   "outputs": [
    {
     "name": "stdout",
     "output_type": "stream",
     "text": [
      "0b10\n",
      "1\n"
     ]
    }
   ],
   "source": [
    "print(bin(2))\n",
    "print(2>>1)"
   ]
  },
  {
   "cell_type": "code",
   "execution_count": 23,
   "metadata": {},
   "outputs": [
    {
     "name": "stdout",
     "output_type": "stream",
     "text": [
      "0b101\n",
      "2\n"
     ]
    }
   ],
   "source": [
    "print(bin(5))\n",
    "print(5>>1)"
   ]
  },
  {
   "cell_type": "code",
   "execution_count": 24,
   "metadata": {},
   "outputs": [
    {
     "name": "stdout",
     "output_type": "stream",
     "text": [
      "1\n"
     ]
    }
   ],
   "source": [
    "print(5>>2)"
   ]
  },
  {
   "cell_type": "markdown",
   "metadata": {},
   "source": [
    "**補充**:\n",
    "由上述例子可知，在正整數下「x>>1」與「x//$2^{1}$」可獲得相同結果、「x>>2」與「x//$2^{2}$」可獲得相同結果。\n",
    "\n",
    "可透過相同方法得到，「整數」透過位元運算子，皆可獲得相同結果。\n",
    "\n",
    "在IEEE-754浮點數表示法中，定義了正數、負數、小數與指數表示法。而位元運算子受到此表示法的定義造成運算上的差異，若想鑽研可讀相關文章。\n",
    "\n",
    "[Reference]()\n",
    "\n",
    "- [從 IEEE 754 標準來看為什麼浮點誤差是無法避免的](https://medium.com/starbugs/see-why-floating-point-error-can-not-be-avoided-from-ieee-754-809720b32175)"
   ]
  },
  {
   "cell_type": "markdown",
   "metadata": {},
   "source": [
    "# Python Casting\n",
    "\n",
    "**轉型**:\n",
    "\n",
    "將資料在不同資料型態中轉換，例如：整數轉為字串、浮點數轉為整數。"
   ]
  },
  {
   "cell_type": "code",
   "execution_count": 25,
   "metadata": {},
   "outputs": [
    {
     "name": "stdout",
     "output_type": "stream",
     "text": [
      "<class 'float'>\n",
      "1\n",
      "<class 'float'>\n",
      "1.3\n",
      "<class 'str'>\n"
     ]
    }
   ],
   "source": [
    "x = 1.3\n",
    "print(type(x))\n",
    "print(int(x))\n",
    "print(type(x))\n",
    "x = str(x)\n",
    "print(x)\n",
    "print(type(x))"
   ]
  }
 ],
 "metadata": {
  "kernelspec": {
   "display_name": "Python 3.7.4 64-bit ('base': conda)",
   "language": "python",
   "name": "python37464bitbaseconda7fef199b3b8c4aadae24550797a9a51a"
  },
  "language_info": {
   "codemirror_mode": {
    "name": "ipython",
    "version": 3
   },
   "file_extension": ".py",
   "mimetype": "text/x-python",
   "name": "python",
   "nbconvert_exporter": "python",
   "pygments_lexer": "ipython3",
   "version": "3.7.6"
  }
 },
 "nbformat": 4,
 "nbformat_minor": 4
}
