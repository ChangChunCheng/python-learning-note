{
 "metadata": {
  "language_info": {
   "codemirror_mode": {
    "name": "ipython",
    "version": 3
   },
   "file_extension": ".py",
   "mimetype": "text/x-python",
   "name": "python",
   "nbconvert_exporter": "python",
   "pygments_lexer": "ipython3",
   "version": "3.8.5-final"
  },
  "orig_nbformat": 2,
  "kernelspec": {
   "name": "python37664bit001456b0d8364ab7aac56ac6499c5dae",
   "display_name": "Python 3.7.6 64-bit"
  }
 },
 "nbformat": 4,
 "nbformat_minor": 2,
 "cells": [
  {
   "cell_type": "markdown",
   "metadata": {},
   "source": [
    "# Python條件式和迴圈介紹\n",
    "\n",
    "本篇介紹Python中的條件式與迴圈，並且進一步說明「縮排」的重要性。"
   ]
  },
  {
   "cell_type": "markdown",
   "metadata": {},
   "source": [
    "# if-else\n",
    "\n",
    "條件式：\n",
    "\n",
    "用於判斷值與值間的大小、次序、包含等關係後，進行特定動作的方法。\n",
    "\n",
    "**在條件式中，必須先取得某個比較關係，此表示在「條件」輸出必須為「邏輯」型態，才可用於進行判斷真與偽。**\n",
    "\n",
    "**補充技巧:**\n",
    "\n",
    "0為偽，非0為真。"
   ]
  },
  {
   "cell_type": "markdown",
   "metadata": {},
   "source": [
    "下述為一範例：\n",
    "\n",
    "當 2 大於 1 時，將 True 顯示出來。"
   ]
  },
  {
   "cell_type": "code",
   "execution_count": 1,
   "metadata": {
    "tags": []
   },
   "outputs": [
    {
     "output_type": "stream",
     "name": "stdout",
     "text": "True\n"
    }
   ],
   "source": [
    "if 2 > 1:\n",
    "    print(True)"
   ]
  },
  {
   "cell_type": "markdown",
   "metadata": {},
   "source": [
    "在上述例子中，if後方為一邏輯式(2>1)，當邏輯式完成後標注一分隔符號「：」，下一行則為當if後的邏輯式成立時所進行的動作(print(True))。\n",
    "\n",
    "此範例可解釋為「如果2>1成立，則顯示出True」。"
   ]
  },
  {
   "cell_type": "markdown",
   "metadata": {},
   "source": [
    "if-else範例"
   ]
  },
  {
   "cell_type": "code",
   "execution_count": 2,
   "metadata": {
    "tags": []
   },
   "outputs": [
    {
     "output_type": "stream",
     "name": "stdout",
     "text": "b <= a\n"
    }
   ],
   "source": [
    "a = 3\n",
    "b = 2\n",
    "\n",
    "if b > a:\n",
    "    print(\"b>a\")\n",
    "else:\n",
    "    print(\"b <= a\")"
   ]
  },
  {
   "cell_type": "markdown",
   "metadata": {},
   "source": [
    "上述範例中：\n",
    "\n",
    "1. 將a訂為3、b訂為2\n",
    "2. 判斷b與a關係\n",
    "\n",
    "可解釋為「若b大於a，則顯示\"b>a\"，**否**則顯示\"b<=a\"」。"
   ]
  },
  {
   "cell_type": "markdown",
   "metadata": {},
   "source": [
    "在if後方，可置放任意的「邏輯式」作為條件判斷。\n",
    "\n",
    "上述例子為使用大於(>)，但也可使用等於(==)、小於(<)、包含於(in)等。\n",
    "\n",
    "表示可使用第一篇中的關係式、第四篇中資料結構的判斷法建立條件式，皆可作為if-else條件式中判斷依據。\n",
    "\n",
    "下列為例："
   ]
  },
  {
   "cell_type": "code",
   "execution_count": 3,
   "metadata": {
    "tags": []
   },
   "outputs": [
    {
     "output_type": "stream",
     "name": "stdout",
     "text": "a is equal to b.\n"
    }
   ],
   "source": [
    "a = 1\n",
    "b = 1\n",
    "if a == b:\n",
    "    print('a is equal to b.')\n",
    "else:\n",
    "    print('a is not equal to b.')"
   ]
  },
  {
   "cell_type": "code",
   "execution_count": 4,
   "metadata": {
    "tags": []
   },
   "outputs": [
    {
     "output_type": "stream",
     "name": "stdout",
     "text": "2 is in a.\n"
    }
   ],
   "source": [
    "a = [1, 2, 3, 4, 5]\n",
    "if 2 in a:\n",
    "    print(\"2 is in a.\")\n",
    "else:\n",
    "    print(\"2 is not in a.\")"
   ]
  },
  {
   "cell_type": "code",
   "execution_count": 5,
   "metadata": {
    "tags": []
   },
   "outputs": [
    {
     "output_type": "stream",
     "name": "stdout",
     "text": "2 is not in a.\n"
    }
   ],
   "source": [
    "a = [3, 4, 5]\n",
    "if 2 in a:\n",
    "    print(\"2 is in a.\")\n",
    "else:\n",
    "    print(\"2 is not in a.\")"
   ]
  },
  {
   "cell_type": "code",
   "execution_count": 6,
   "metadata": {
    "tags": []
   },
   "outputs": [
    {
     "output_type": "stream",
     "name": "stdout",
     "text": "2 is in a.\n"
    }
   ],
   "source": [
    "a = {1, 2, 3, 4, 5}\n",
    "if 2 in a:\n",
    "    print(\"2 is in a.\")\n",
    "else:\n",
    "    print(\"2 is not in a.\")"
   ]
  },
  {
   "cell_type": "code",
   "execution_count": 7,
   "metadata": {
    "tags": []
   },
   "outputs": [
    {
     "output_type": "stream",
     "name": "stdout",
     "text": "2 is not in a.\n"
    }
   ],
   "source": [
    "a = {3, 4, 5}\n",
    "if 2 in a:\n",
    "    print(\"2 is in a.\")\n",
    "else:\n",
    "    print(\"2 is not in a.\")"
   ]
  },
  {
   "cell_type": "code",
   "execution_count": 8,
   "metadata": {
    "tags": []
   },
   "outputs": [
    {
     "output_type": "stream",
     "name": "stdout",
     "text": "2 is in a.\n"
    }
   ],
   "source": [
    "a = {1:'one', 2:'two', 3:'three', 4:'four', 5:'five'}\n",
    "if 2 in a:\n",
    "    print(\"2 is in a.\")\n",
    "else:\n",
    "    print(\"2 is not in a.\")"
   ]
  },
  {
   "cell_type": "code",
   "execution_count": 9,
   "metadata": {
    "tags": []
   },
   "outputs": [
    {
     "output_type": "stream",
     "name": "stdout",
     "text": "2 is not in a.\n"
    }
   ],
   "source": [
    "a = {3:'three', 4:'four', 5:'five'}\n",
    "if 2 in a:\n",
    "    print(\"2 is in a.\")\n",
    "else:\n",
    "    print(\"2 is not in a.\")"
   ]
  },
  {
   "cell_type": "markdown",
   "metadata": {},
   "source": [
    "上述條件式為單一邏輯式表示，也可以用多邏輯關係建立條件式，例如：2>1 and 3>2。"
   ]
  },
  {
   "cell_type": "code",
   "execution_count": 10,
   "metadata": {
    "tags": []
   },
   "outputs": [
    {
     "output_type": "stream",
     "name": "stdout",
     "text": "c is largest.\n"
    }
   ],
   "source": [
    "a = 1\n",
    "b = 2\n",
    "c = 3\n",
    "if b > a and c > b :\n",
    "    print(\"c is largest.\")\n",
    "else:\n",
    "    if b > a and b > c :\n",
    "        print(\"b is largest.\")\n",
    "    else:\n",
    "        if a > b and b > c :\n",
    "            print(\"a is largest.\")"
   ]
  },
  {
   "cell_type": "markdown",
   "metadata": {},
   "source": [
    "上述為a、b、c三數比較，將值最大的選顯示出來。\n",
    "\n",
    "但是在上述的表示法中，if-else曾數太多時，難以閱讀。在Python中，可以透過elif建立else-if多層判斷表示。\n",
    "\n",
    "上述if-else條件式也可寫成以下例子。"
   ]
  },
  {
   "cell_type": "code",
   "execution_count": 11,
   "metadata": {
    "tags": []
   },
   "outputs": [
    {
     "output_type": "stream",
     "name": "stdout",
     "text": "c is largest.\n"
    }
   ],
   "source": [
    "a = 1\n",
    "b = 2\n",
    "c = 3\n",
    "if b > a and c > b :\n",
    "    print(\"c is largest.\")\n",
    "elif b > a and b > c :\n",
    "    print(\"b is largest.\")\n",
    "elif a > b and b > c :\n",
    "    print(\"a is largest.\")"
   ]
  },
  {
   "cell_type": "code",
   "execution_count": null,
   "metadata": {},
   "outputs": [],
   "source": []
  }
 ]
}