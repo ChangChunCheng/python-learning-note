{
 "metadata": {
  "language_info": {
   "codemirror_mode": {
    "name": "ipython",
    "version": 3
   },
   "file_extension": ".py",
   "mimetype": "text/x-python",
   "name": "python",
   "nbconvert_exporter": "python",
   "pygments_lexer": "ipython3",
   "version": "3.8.5-final"
  },
  "orig_nbformat": 2,
  "kernelspec": {
   "name": "python37664bit001456b0d8364ab7aac56ac6499c5dae",
   "display_name": "Python 3.7.6 64-bit"
  }
 },
 "nbformat": 4,
 "nbformat_minor": 2,
 "cells": [
  {
   "cell_type": "markdown",
   "metadata": {},
   "source": [
    "# Python條件式和迴圈介紹\n",
    "\n",
    "本篇介紹Python中的條件式與迴圈，並且進一步說明「縮排」的重要性。"
   ]
  },
  {
   "cell_type": "markdown",
   "metadata": {},
   "source": [
    "# if-else\n",
    "\n",
    "條件式：\n",
    "\n",
    "用於判斷值與值間的大小、次序、包含等關係後，進行特定動作的方法。\n",
    "\n",
    "結構：\n",
    "\n",
    "if condition:\n",
    "\n",
    "> do-something\n",
    "\n",
    "> .\n",
    "\n",
    "> .\n",
    "\n",
    "> .\n",
    "\n",
    "**在條件式中，必須先取得某個比較關係，此表示在「條件」輸出必須為「邏輯」型態，才可用於進行判斷真與偽。**\n",
    "\n",
    "**補充技巧:**\n",
    "\n",
    "0為偽，非0為真。"
   ]
  },
  {
   "cell_type": "markdown",
   "metadata": {},
   "source": [
    "下述為一範例：\n",
    "\n",
    "當 2 大於 1 時，將 True 顯示出來。"
   ]
  },
  {
   "cell_type": "code",
   "execution_count": 1,
   "metadata": {
    "tags": []
   },
   "outputs": [
    {
     "output_type": "stream",
     "name": "stdout",
     "text": "True\n"
    }
   ],
   "source": [
    "if 2 > 1:\n",
    "    print(True)"
   ]
  },
  {
   "cell_type": "markdown",
   "metadata": {},
   "source": [
    "在上述例子中，if後方為一邏輯式(2>1)，當邏輯式完成後標注一分隔符號「：」，下一行則為當if後的邏輯式成立時所進行的動作(print(True))。\n",
    "\n",
    "此範例可解釋為「如果2>1成立，則顯示出True」。"
   ]
  },
  {
   "cell_type": "markdown",
   "metadata": {},
   "source": [
    "if-else範例"
   ]
  },
  {
   "cell_type": "code",
   "execution_count": 2,
   "metadata": {
    "tags": []
   },
   "outputs": [
    {
     "output_type": "stream",
     "name": "stdout",
     "text": "b <= a\n"
    }
   ],
   "source": [
    "a = 3\n",
    "b = 2\n",
    "\n",
    "if b > a:\n",
    "    print(\"b>a\")\n",
    "else:\n",
    "    print(\"b <= a\")"
   ]
  },
  {
   "cell_type": "markdown",
   "metadata": {},
   "source": [
    "上述範例中：\n",
    "\n",
    "1. 將a訂為3、b訂為2\n",
    "2. 判斷b與a關係\n",
    "\n",
    "可解釋為「若b大於a，則顯示\"b>a\"，**否**則顯示\"b<=a\"」。"
   ]
  },
  {
   "cell_type": "markdown",
   "metadata": {},
   "source": [
    "在if後方，可置放任意的「邏輯式」作為條件判斷。\n",
    "\n",
    "上述例子為使用大於(>)，但也可使用等於(==)、小於(<)、包含於(in)等。\n",
    "\n",
    "表示可使用第一篇中的關係式、第四篇中資料結構的判斷法建立條件式，皆可作為if-else條件式中判斷依據。\n",
    "\n",
    "下列為例："
   ]
  },
  {
   "cell_type": "code",
   "execution_count": 3,
   "metadata": {
    "tags": []
   },
   "outputs": [
    {
     "output_type": "stream",
     "name": "stdout",
     "text": "a is equal to b.\n"
    }
   ],
   "source": [
    "a = 1\n",
    "b = 1\n",
    "if a == b:\n",
    "    print('a is equal to b.')\n",
    "else:\n",
    "    print('a is not equal to b.')"
   ]
  },
  {
   "cell_type": "code",
   "execution_count": 4,
   "metadata": {
    "tags": []
   },
   "outputs": [
    {
     "output_type": "stream",
     "name": "stdout",
     "text": "2 is in a.\n"
    }
   ],
   "source": [
    "a = [1, 2, 3, 4, 5]\n",
    "if 2 in a:\n",
    "    print(\"2 is in a.\")\n",
    "else:\n",
    "    print(\"2 is not in a.\")"
   ]
  },
  {
   "cell_type": "code",
   "execution_count": 5,
   "metadata": {
    "tags": []
   },
   "outputs": [
    {
     "output_type": "stream",
     "name": "stdout",
     "text": "2 is not in a.\n"
    }
   ],
   "source": [
    "a = [3, 4, 5]\n",
    "if 2 in a:\n",
    "    print(\"2 is in a.\")\n",
    "else:\n",
    "    print(\"2 is not in a.\")"
   ]
  },
  {
   "cell_type": "code",
   "execution_count": 6,
   "metadata": {
    "tags": []
   },
   "outputs": [
    {
     "output_type": "stream",
     "name": "stdout",
     "text": "2 is in a.\n"
    }
   ],
   "source": [
    "a = {1, 2, 3, 4, 5}\n",
    "if 2 in a:\n",
    "    print(\"2 is in a.\")\n",
    "else:\n",
    "    print(\"2 is not in a.\")"
   ]
  },
  {
   "cell_type": "code",
   "execution_count": 7,
   "metadata": {
    "tags": []
   },
   "outputs": [
    {
     "output_type": "stream",
     "name": "stdout",
     "text": "2 is not in a.\n"
    }
   ],
   "source": [
    "a = {3, 4, 5}\n",
    "if 2 in a:\n",
    "    print(\"2 is in a.\")\n",
    "else:\n",
    "    print(\"2 is not in a.\")"
   ]
  },
  {
   "cell_type": "code",
   "execution_count": 8,
   "metadata": {
    "tags": []
   },
   "outputs": [
    {
     "output_type": "stream",
     "name": "stdout",
     "text": "2 is in a.\n"
    }
   ],
   "source": [
    "a = {1:'one', 2:'two', 3:'three', 4:'four', 5:'five'}\n",
    "if 2 in a:\n",
    "    print(\"2 is in a.\")\n",
    "else:\n",
    "    print(\"2 is not in a.\")"
   ]
  },
  {
   "cell_type": "code",
   "execution_count": 9,
   "metadata": {
    "tags": []
   },
   "outputs": [
    {
     "output_type": "stream",
     "name": "stdout",
     "text": "2 is not in a.\n"
    }
   ],
   "source": [
    "a = {3:'three', 4:'four', 5:'five'}\n",
    "if 2 in a:\n",
    "    print(\"2 is in a.\")\n",
    "else:\n",
    "    print(\"2 is not in a.\")"
   ]
  },
  {
   "cell_type": "markdown",
   "metadata": {},
   "source": [
    "上述條件式為單一邏輯式表示，也可以用多邏輯關係建立條件式，例如：2>1 and 3>2。"
   ]
  },
  {
   "cell_type": "code",
   "execution_count": 10,
   "metadata": {
    "tags": []
   },
   "outputs": [
    {
     "output_type": "stream",
     "name": "stdout",
     "text": "c is largest.\n"
    }
   ],
   "source": [
    "a = 1\n",
    "b = 2\n",
    "c = 3\n",
    "if b > a and c > b :\n",
    "    print(\"c is largest.\")\n",
    "else:\n",
    "    if b > a and b > c :\n",
    "        print(\"b is largest.\")\n",
    "    else:\n",
    "        if a > b and b > c :\n",
    "            print(\"a is largest.\")"
   ]
  },
  {
   "cell_type": "markdown",
   "metadata": {},
   "source": [
    "上述為a、b、c三數比較，將值最大的選顯示出來。\n",
    "\n",
    "但是在上述的表示法中，if-else曾數太多時，難以閱讀。在Python中，可以透過elif建立else-if多層判斷表示。\n",
    "\n",
    "上述if-else條件式也可寫成以下例子。"
   ]
  },
  {
   "cell_type": "code",
   "execution_count": 11,
   "metadata": {
    "tags": []
   },
   "outputs": [
    {
     "output_type": "stream",
     "name": "stdout",
     "text": "c is largest.\n"
    }
   ],
   "source": [
    "a = 1\n",
    "b = 2\n",
    "c = 3\n",
    "if b > a and c > b :\n",
    "    print(\"c is largest.\")\n",
    "elif b > a and b > c :\n",
    "    print(\"b is largest.\")\n",
    "elif a > b and b > c :\n",
    "    print(\"a is largest.\")"
   ]
  },
  {
   "cell_type": "markdown",
   "metadata": {},
   "source": [
    "**Keyword:**pass\n",
    "\n",
    "用於程式結構中，當該層級(縮排)中未包含任何動作時，須藉由pass進行「無動作」標記，否則程式執行錯誤。"
   ]
  },
  {
   "cell_type": "code",
   "execution_count": 12,
   "metadata": {},
   "outputs": [
    {
     "output_type": "error",
     "ename": "SyntaxError",
     "evalue": "unexpected EOF while parsing (<ipython-input-12-f4a0cca1d560>, line 5)",
     "traceback": [
      "\u001b[0;36m  File \u001b[0;32m\"<ipython-input-12-f4a0cca1d560>\"\u001b[0;36m, line \u001b[0;32m5\u001b[0m\n\u001b[0;31m    else:\u001b[0m\n\u001b[0m         ^\u001b[0m\n\u001b[0;31mSyntaxError\u001b[0m\u001b[0;31m:\u001b[0m unexpected EOF while parsing\n"
     ]
    }
   ],
   "source": [
    "a = 1\n",
    "b = 2\n",
    "if a > b :\n",
    "    print(\"a > b\")\n",
    "else:"
   ]
  },
  {
   "cell_type": "markdown",
   "metadata": {},
   "source": [
    "上述中，「當a>b時，顯示a>b，否則無動作」，但else中卻未包含任何動作，此時程式錯誤。"
   ]
  },
  {
   "cell_type": "code",
   "execution_count": 13,
   "metadata": {},
   "outputs": [],
   "source": [
    "a = 1\n",
    "b = 2\n",
    "if a > b :\n",
    "    print(\"a > b\")\n",
    "else:\n",
    "    pass"
   ]
  },
  {
   "cell_type": "markdown",
   "metadata": {},
   "source": [
    "上述中，「當a>b時，顯示a>b，否則無動作」，但else中利用pass標記，此時程式未發生錯誤。"
   ]
  },
  {
   "cell_type": "markdown",
   "metadata": {},
   "source": [
    "**透過「pass」標記程式到此步驟時不進行動作，也可以增加程式可讀性，讓接手的人得知到此步驟時，不進行任何動作**"
   ]
  },
  {
   "cell_type": "markdown",
   "metadata": {},
   "source": [
    "技巧：「0為偽，非0為真」"
   ]
  },
  {
   "cell_type": "code",
   "execution_count": 14,
   "metadata": {
    "tags": []
   },
   "outputs": [
    {
     "output_type": "stream",
     "name": "stdout",
     "text": "0 is false\n-24 is true\n"
    }
   ],
   "source": [
    "a = 0\n",
    "b = -24\n",
    "if a:\n",
    "    print(\"0 is true.\")\n",
    "else:\n",
    "    print(\"0 is false\")\n",
    "\n",
    "if b:\n",
    "    print(\"-24 is true\")\n",
    "else:\n",
    "    print(\"-24 is false\")"
   ]
  },
  {
   "cell_type": "markdown",
   "metadata": {},
   "source": [
    "# Loop\n",
    "\n",
    "**迴圈：**\n",
    "\n",
    "用於進行重複性動作的表示法。\n",
    "\n",
    "在程式執行時，常常有大量重複步驟要執行。若將每一個運算分別進行程式編輯，會產生大量重複且難以理解的程式。此時，可以透過迴圈(loop)進行運算。"
   ]
  },
  {
   "cell_type": "markdown",
   "metadata": {},
   "source": [
    "**在迴圈中，必須讓程式得知什麼條件下需進行此運算，由此可知在迴圈中需有「條件式」進行判斷依據。**"
   ]
  },
  {
   "cell_type": "markdown",
   "metadata": {},
   "source": [
    "## while loop\n",
    "\n",
    "結構：\n",
    "\n",
    "while \"condition\": # 當條件式成立時，進行動作\n",
    "\n",
    "> do-something\n",
    "\n",
    "> .\n",
    "\n",
    "> .\n",
    "\n",
    "> ."
   ]
  },
  {
   "cell_type": "code",
   "execution_count": 15,
   "metadata": {
    "tags": []
   },
   "outputs": [
    {
     "output_type": "stream",
     "name": "stdout",
     "text": "1\n2\n3\n4\n5\n"
    }
   ],
   "source": [
    "i = 1\n",
    "while i < 6:\n",
    "    print(i)\n",
    "    i += 1"
   ]
  },
  {
   "cell_type": "markdown",
   "metadata": {},
   "source": [
    "在此範例中，將i定義為1，當i小於6時，1.顯示i；2.i增加1並取代原先的i。\n",
    "\n",
    "**注意：**\n",
    "\n",
    "在此範例中，每一次顯示i後，需將i加1並覆蓋原本的i，否則i無任何變動時，i永遠為1，此時，i<6永遠為真，無法跳出迴圈，此種迴圈增為「無窮回圈」。\n",
    "\n",
    "當無窮迴圈發生時，程式將持續執行至程式中斷(電腦當機)為止。"
   ]
  },
  {
   "cell_type": "markdown",
   "metadata": {},
   "source": [
    "**Keyword:** break\n",
    "\n",
    "迴圈中斷句，當迴圈執行前無法得知此為圈執行次數，或是迴圈執行次數不是為定值時，可以在迴圈中加入break進行強制中斷。"
   ]
  },
  {
   "cell_type": "code",
   "execution_count": 16,
   "metadata": {
    "tags": []
   },
   "outputs": [
    {
     "output_type": "stream",
     "name": "stdout",
     "text": "1\n2\n3\n"
    }
   ],
   "source": [
    "i = 1\n",
    "while i < 6:\n",
    "    print(i)\n",
    "    if i == 3:\n",
    "        break\n",
    "    i += 1"
   ]
  },
  {
   "cell_type": "markdown",
   "metadata": {},
   "source": [
    "上述範例中，將i訂為1，當i小於6時，顯示i後，判斷i是否為3。若i等於3時，強制中斷此迴圈，否則將i加1並取代原本的i。\n",
    "\n",
    "由此可知，當i進行到3時，顯示玩i後，因為i==3時附有強制中斷語句break，使得當i為3時，迴圈被強制中斷。"
   ]
  },
  {
   "cell_type": "markdown",
   "metadata": {},
   "source": [
    "## for-loop\n",
    "\n",
    "for condition: # 當條件式成立時，進行動作\n",
    "\n",
    "> do-something\n",
    "\n",
    "> .\n",
    "\n",
    "> .\n",
    "\n",
    "> ."
   ]
  },
  {
   "cell_type": "markdown",
   "metadata": {},
   "source": [
    "while與for迴圈差異為「for-loop可以透過變數型態(string)、資料結構(set、list、dict)等，取得特定內容後進行運算」。\n",
    "\n",
    "由此得知，for迴圈執行前需有一個「來源」。表示for迴圈執行時可以預估此迴圈被執行次數，沒有「不確定性」存在。"
   ]
  },
  {
   "cell_type": "code",
   "execution_count": 17,
   "metadata": {
    "tags": []
   },
   "outputs": [
    {
     "output_type": "stream",
     "name": "stdout",
     "text": "1\n2\n3\n4\n5\n"
    }
   ],
   "source": [
    "a = [1, 2, 3, 4, 5]\n",
    "for i in a:\n",
    "    print(i)"
   ]
  },
  {
   "cell_type": "markdown",
   "metadata": {},
   "source": [
    "上述例子中，將a訂為\\[1, 2, 3, 4, 5\\]序列，透過迴圈將a中元素逐個取出並利用i變數表示，最後顯示i。"
   ]
  },
  {
   "cell_type": "markdown",
   "metadata": {},
   "source": [
    "除了利用序列(list)逐步取出元素外，也可以透過集合(set)、數組(tuple)、字典(dictionary)等結構。\n",
    "\n",
    "**注意：**\n",
    "\n",
    "序列為有序集，可保有該集合中順序，但集合不行。\n",
    "\n",
    "若透過迴圈取得無序集中元素，無法保證取出元素的順序。若運算需保有順序性，則需注意資料結構。"
   ]
  },
  {
   "cell_type": "markdown",
   "metadata": {},
   "source": [
    "在for-loop中，也可以使用break強制中斷迴圈。\n",
    "\n",
    "然而，除了強制中斷迴圈執行外，也可能在某些特定條件發生的狀態中，「不」進行或「僅」進行特定運算。\n",
    "\n",
    "**Keyword:** continue\n",
    "\n",
    "略過下列運算式，直接進行迴圈的下一次計算。"
   ]
  },
  {
   "cell_type": "code",
   "execution_count": 18,
   "metadata": {
    "tags": []
   },
   "outputs": [
    {
     "output_type": "stream",
     "name": "stdout",
     "text": "apple\ncherry\n"
    }
   ],
   "source": [
    "fruits = [\"apple\", \"banana\", \"cherry\"]\n",
    "for x in fruits:\n",
    "    if x == \"banana\":\n",
    "        continue\n",
    "    print(x)"
   ]
  },
  {
   "cell_type": "markdown",
   "metadata": {},
   "source": [
    "上述例子中，當x為\"banana\"時，直接執行下一次計算。在此顯示，當x為\"banana\"時，continue使得x直接變為下一個元素\"cherry\"，使得結果不會顯示出banana。"
   ]
  },
  {
   "cell_type": "markdown",
   "metadata": {},
   "source": [
    "### 九九乘法表\n",
    "\n",
    "透過迴圈列出99乘法表"
   ]
  },
  {
   "cell_type": "code",
   "execution_count": 22,
   "metadata": {
    "tags": []
   },
   "outputs": [
    {
     "output_type": "stream",
     "name": "stdout",
     "text": "1 * 1 = 1\n1 * 2 = 2\n1 * 3 = 3\n1 * 4 = 4\n1 * 5 = 5\n1 * 6 = 6\n1 * 7 = 7\n1 * 8 = 8\n1 * 9 = 9\n"
    }
   ],
   "source": [
    "for i in range(1, 10, 1):\n",
    "    print(\"{} * {} = {}\".format(1, i, 1*i))"
   ]
  },
  {
   "cell_type": "code",
   "execution_count": 25,
   "metadata": {
    "tags": []
   },
   "outputs": [
    {
     "output_type": "stream",
     "name": "stdout",
     "text": "1 * 1 = 11 * 2 = 21 * 3 = 31 * 4 = 41 * 5 = 51 * 6 = 61 * 7 = 71 * 8 = 81 * 9 = 9\n2 * 1 = 22 * 2 = 42 * 3 = 62 * 4 = 82 * 5 = 102 * 6 = 122 * 7 = 142 * 8 = 162 * 9 = 18\n3 * 1 = 33 * 2 = 63 * 3 = 93 * 4 = 123 * 5 = 153 * 6 = 183 * 7 = 213 * 8 = 243 * 9 = 27\n4 * 1 = 44 * 2 = 84 * 3 = 124 * 4 = 164 * 5 = 204 * 6 = 244 * 7 = 284 * 8 = 324 * 9 = 36\n5 * 1 = 55 * 2 = 105 * 3 = 155 * 4 = 205 * 5 = 255 * 6 = 305 * 7 = 355 * 8 = 405 * 9 = 45\n6 * 1 = 66 * 2 = 126 * 3 = 186 * 4 = 246 * 5 = 306 * 6 = 366 * 7 = 426 * 8 = 486 * 9 = 54\n7 * 1 = 77 * 2 = 147 * 3 = 217 * 4 = 287 * 5 = 357 * 6 = 427 * 7 = 497 * 8 = 567 * 9 = 63\n8 * 1 = 88 * 2 = 168 * 3 = 248 * 4 = 328 * 5 = 408 * 6 = 488 * 7 = 568 * 8 = 648 * 9 = 72\n9 * 1 = 99 * 2 = 189 * 3 = 279 * 4 = 369 * 5 = 459 * 6 = 549 * 7 = 639 * 8 = 729 * 9 = 81\n"
    }
   ],
   "source": [
    "for i in range(1, 10, 1):\n",
    "    for j in range(1, 10, 1):\n",
    "        print(\"{} * {} = {}\".format(i, j, i*j), end='')\n",
    "    print(end='\\n')"
   ]
  },
  {
   "cell_type": "code",
   "execution_count": 53,
   "metadata": {
    "tags": []
   },
   "outputs": [
    {
     "output_type": "stream",
     "name": "stdout",
     "text": "1 *  1 =  1\t 1 *  2 =  2\t 1 *  3 =  3\t\n 1 *  4 =  4\t 1 *  5 =  5\t 1 *  6 =  6\t\n 1 *  7 =  7\t 1 *  8 =  8\t 1 *  9 =  9\t\n\n 2 *  1 =  2\t 2 *  2 =  4\t 2 *  3 =  6\t\n 2 *  4 =  8\t 2 *  5 = 10\t 2 *  6 = 12\t\n 2 *  7 = 14\t 2 *  8 = 16\t 2 *  9 = 18\t\n\n 3 *  1 =  3\t 3 *  2 =  6\t 3 *  3 =  9\t\n 3 *  4 = 12\t 3 *  5 = 15\t 3 *  6 = 18\t\n 3 *  7 = 21\t 3 *  8 = 24\t 3 *  9 = 27\t\n\n 4 *  1 =  4\t 4 *  2 =  8\t 4 *  3 = 12\t\n 4 *  4 = 16\t 4 *  5 = 20\t 4 *  6 = 24\t\n 4 *  7 = 28\t 4 *  8 = 32\t 4 *  9 = 36\t\n\n 5 *  1 =  5\t 5 *  2 = 10\t 5 *  3 = 15\t\n 5 *  4 = 20\t 5 *  5 = 25\t 5 *  6 = 30\t\n 5 *  7 = 35\t 5 *  8 = 40\t 5 *  9 = 45\t\n\n 6 *  1 =  6\t 6 *  2 = 12\t 6 *  3 = 18\t\n 6 *  4 = 24\t 6 *  5 = 30\t 6 *  6 = 36\t\n 6 *  7 = 42\t 6 *  8 = 48\t 6 *  9 = 54\t\n\n 7 *  1 =  7\t 7 *  2 = 14\t 7 *  3 = 21\t\n 7 *  4 = 28\t 7 *  5 = 35\t 7 *  6 = 42\t\n 7 *  7 = 49\t 7 *  8 = 56\t 7 *  9 = 63\t\n\n 8 *  1 =  8\t 8 *  2 = 16\t 8 *  3 = 24\t\n 8 *  4 = 32\t 8 *  5 = 40\t 8 *  6 = 48\t\n 8 *  7 = 56\t 8 *  8 = 64\t 8 *  9 = 72\t\n\n 9 *  1 =  9\t 9 *  2 = 18\t 9 *  3 = 27\t\n 9 *  4 = 36\t 9 *  5 = 45\t 9 *  6 = 54\t\n 9 *  7 = 63\t 9 *  8 = 72\t 9 *  9 = 81\t\n\n"
    }
   ],
   "source": [
    "for i in range(1, 10, 1):\n",
    "    for j in range(1, 10, 1):\n",
    "        print(\"{:2d} * {:2d} = {:2d}\".format(i, j, i*j), end='\\t')\n",
    "        if not (j % 3) :\n",
    "            print(end='\\n')\n",
    "    print()"
   ]
  }
 ]
}