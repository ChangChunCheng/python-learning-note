{
 "cells": [
  {
   "cell_type": "markdown",
   "metadata": {},
   "source": [
    "# Hello World!"
   ]
  },
  {
   "cell_type": "code",
   "execution_count": 1,
   "metadata": {},
   "outputs": [
    {
     "name": "stdout",
     "output_type": "stream",
     "text": [
      "Hello World!\n"
     ]
    }
   ],
   "source": [
    "print('Hello World!')"
   ]
  },
  {
   "cell_type": "markdown",
   "metadata": {},
   "source": [
    "# 縮排\n",
    "\n",
    "Python依靠縮排辨識程式區塊\n",
    "- **Key word**: ':'\n",
    "\n",
    "以下範例： (之後探討到if-else會在解釋以下程式意義)"
   ]
  },
  {
   "cell_type": "code",
   "execution_count": 2,
   "metadata": {},
   "outputs": [
    {
     "name": "stdout",
     "output_type": "stream",
     "text": [
      "True\n"
     ]
    }
   ],
   "source": [
    "if 2 > 1:\n",
    "    print('True')"
   ]
  },
  {
   "cell_type": "code",
   "execution_count": 3,
   "metadata": {},
   "outputs": [
    {
     "name": "stdout",
     "output_type": "stream",
     "text": [
      "True\n"
     ]
    }
   ],
   "source": [
    "if 2 > 1:\n",
    " print('True')"
   ]
  },
  {
   "cell_type": "code",
   "execution_count": 4,
   "metadata": {},
   "outputs": [
    {
     "ename": "IndentationError",
     "evalue": "expected an indented block (<ipython-input-4-2cc6811fa862>, line 2)",
     "output_type": "error",
     "traceback": [
      "\u001b[0;36m  File \u001b[0;32m\"<ipython-input-4-2cc6811fa862>\"\u001b[0;36m, line \u001b[0;32m2\u001b[0m\n\u001b[0;31m    print('True')\u001b[0m\n\u001b[0m        ^\u001b[0m\n\u001b[0;31mIndentationError\u001b[0m\u001b[0;31m:\u001b[0m expected an indented block\n"
     ]
    }
   ],
   "source": [
    "if 2 > 1:\n",
    "print('True')"
   ]
  },
  {
   "cell_type": "code",
   "execution_count": 6,
   "metadata": {},
   "outputs": [
    {
     "ename": "IndentationError",
     "evalue": "unindent does not match any outer indentation level (<tokenize>, line 3)",
     "output_type": "error",
     "traceback": [
      "\u001b[0;36m  File \u001b[0;32m\"<tokenize>\"\u001b[0;36m, line \u001b[0;32m3\u001b[0m\n\u001b[0;31m    print('True2')\u001b[0m\n\u001b[0m    ^\u001b[0m\n\u001b[0;31mIndentationError\u001b[0m\u001b[0;31m:\u001b[0m unindent does not match any outer indentation level\n"
     ]
    }
   ],
   "source": [
    "if 2 > 1:\n",
    "    print('True1')\n",
    " print('True2')"
   ]
  },
  {
   "cell_type": "markdown",
   "metadata": {},
   "source": [
    "# Python Variables\n",
    "\n",
    "**變數**:\n",
    "\n",
    "用於取代「值」的符號。\n",
    "\n",
    "在程式中，以「=」符號表示將值派給符號，而此符號稱為「變數」。\n",
    "\n",
    "以「=」符號分隔，將右側值只派給左側符號。\n",
    "\n",
    "為什麼需要變數？\n",
    "\n",
    "在程式執行過程中，大部分處理的資料並非是一個定值 (2, 5, 8, True, '名字')，而是會改變的值。\n",
    "\n",
    "像數學中的x, y用途相同，透過符號代表某一個要被處理、運算的值，當值改變時，運算結果也會跟著改變。\n",
    "\n",
    "**變數命名規則**：\n",
    "- 變數名稱內只能包含「文字」、「數字」與「底線」\n",
    "- 開頭必須為「文字」或「底線」，不可為「數字」\n",
    "- 變數名稱大小寫不同"
   ]
  },
  {
   "cell_type": "code",
   "execution_count": 7,
   "metadata": {},
   "outputs": [
    {
     "name": "stdout",
     "output_type": "stream",
     "text": [
      "6\n"
     ]
    }
   ],
   "source": [
    "x = 5 # 把值 (5) 只派給x符號\n",
    "y = x + 1\n",
    "print(y)"
   ]
  },
  {
   "cell_type": "code",
   "execution_count": 8,
   "metadata": {},
   "outputs": [
    {
     "name": "stdout",
     "output_type": "stream",
     "text": [
      "我是蝦趴誠\n"
     ]
    }
   ],
   "source": [
    "x = '我是蝦趴誠'\n",
    "print(x)"
   ]
  },
  {
   "cell_type": "code",
   "execution_count": 9,
   "metadata": {},
   "outputs": [
    {
     "name": "stdout",
     "output_type": "stream",
     "text": [
      "1\n",
      "2\n",
      "3\n"
     ]
    }
   ],
   "source": [
    "x = 1\n",
    "print(x)\n",
    "_x = 2\n",
    "print(_x)\n",
    "嗨 = 3\n",
    "print(嗨)"
   ]
  },
  {
   "cell_type": "code",
   "execution_count": 10,
   "metadata": {},
   "outputs": [
    {
     "ename": "NameError",
     "evalue": "name 'X' is not defined",
     "output_type": "error",
     "traceback": [
      "\u001b[0;31m---------------------------------------------------------------------------\u001b[0m",
      "\u001b[0;31mNameError\u001b[0m                                 Traceback (most recent call last)",
      "\u001b[0;32m<ipython-input-10-d490e83d9eb4>\u001b[0m in \u001b[0;36m<module>\u001b[0;34m\u001b[0m\n\u001b[0;32m----> 1\u001b[0;31m \u001b[0mprint\u001b[0m\u001b[0;34m(\u001b[0m\u001b[0mX\u001b[0m\u001b[0;34m)\u001b[0m \u001b[0;31m# 大寫X\u001b[0m\u001b[0;34m\u001b[0m\u001b[0;34m\u001b[0m\u001b[0m\n\u001b[0m",
      "\u001b[0;31mNameError\u001b[0m: name 'X' is not defined"
     ]
    }
   ],
   "source": [
    "print(X) # 大寫X"
   ]
  },
  {
   "cell_type": "code",
   "execution_count": 11,
   "metadata": {},
   "outputs": [
    {
     "ename": "SyntaxError",
     "evalue": "invalid syntax (<ipython-input-11-7066ee854752>, line 1)",
     "output_type": "error",
     "traceback": [
      "\u001b[0;36m  File \u001b[0;32m\"<ipython-input-11-7066ee854752>\"\u001b[0;36m, line \u001b[0;32m1\u001b[0m\n\u001b[0;31m    1x = 4 # 不可數字開頭\u001b[0m\n\u001b[0m     ^\u001b[0m\n\u001b[0;31mSyntaxError\u001b[0m\u001b[0;31m:\u001b[0m invalid syntax\n"
     ]
    }
   ],
   "source": [
    "1x = 4 # 不可數字開頭"
   ]
  },
  {
   "cell_type": "markdown",
   "metadata": {},
   "source": [
    "# Python keyword\n",
    "\n",
    "**關鍵字**:\n",
    "\n",
    "Python程式語法用字，不可以用於變數命名的字。\n",
    "\n",
    "下列為Python中保留字："
   ]
  },
  {
   "cell_type": "code",
   "execution_count": 12,
   "metadata": {},
   "outputs": [
    {
     "name": "stdout",
     "output_type": "stream",
     "text": [
      "1:False\n",
      "2:None\n",
      "3:True\n",
      "4:and\n",
      "5:as\n",
      "6:assert\n",
      "7:async\n",
      "8:await\n",
      "9:break\n",
      "10:class\n",
      "11:continue\n",
      "12:def\n",
      "13:del\n",
      "14:elif\n",
      "15:else\n",
      "16:except\n",
      "17:finally\n",
      "18:for\n",
      "19:from\n",
      "20:global\n",
      "21:if\n",
      "22:import\n",
      "23:in\n",
      "24:is\n",
      "25:lambda\n",
      "26:nonlocal\n",
      "27:not\n",
      "28:or\n",
      "29:pass\n",
      "30:raise\n",
      "31:return\n",
      "32:try\n",
      "33:while\n",
      "34:with\n",
      "35:yield\n"
     ]
    }
   ],
   "source": [
    "import keyword\n",
    "for index, key in enumerate(keyword.kwlist):\n",
    "    print('{}:{}'.format(index+1, key))"
   ]
  },
  {
   "cell_type": "markdown",
   "metadata": {},
   "source": [
    "# Python Comments\n",
    "\n",
    "**註解**：\n",
    "\n",
    "透過在程式中插入特定符號，並在符號間撰寫文字，該符號間所有文字不會被辨識為程式內容。\n",
    "\n",
    "Python解釋程式時，會將註解符號間所有文字排除，不會被執行。"
   ]
  },
  {
   "cell_type": "code",
   "execution_count": 13,
   "metadata": {},
   "outputs": [
    {
     "name": "stdout",
     "output_type": "stream",
     "text": [
      "Hello World!_1\n",
      "Hello World!_3\n"
     ]
    }
   ],
   "source": [
    "print('Hello World!_1')\n",
    "# print('Hello World!_2') 這行不會被執行\n",
    "print('Hello World!_3')"
   ]
  },
  {
   "cell_type": "code",
   "execution_count": 14,
   "metadata": {},
   "outputs": [
    {
     "name": "stdout",
     "output_type": "stream",
     "text": [
      "Hello World!_3\n"
     ]
    }
   ],
   "source": [
    "'''\n",
    "這裡不會被執行\n",
    "print('Hello World!_1')\n",
    "print('Hello World!_2')\n",
    "''' \n",
    "print('Hello World!_3')"
   ]
  },
  {
   "cell_type": "code",
   "execution_count": 15,
   "metadata": {},
   "outputs": [
    {
     "name": "stdout",
     "output_type": "stream",
     "text": [
      "Hello World!_3\n"
     ]
    }
   ],
   "source": [
    "\"\"\"\n",
    "這裡不會被執行\n",
    "print('Hello World!_1')\n",
    "print('Hello World!_2')\n",
    "\"\"\"\n",
    "print('Hello World!_3')"
   ]
  },
  {
   "cell_type": "code",
   "execution_count": 16,
   "metadata": {},
   "outputs": [
    {
     "name": "stdout",
     "output_type": "stream",
     "text": [
      "Hello World!_1\n"
     ]
    }
   ],
   "source": [
    "print(\"Hello World!_1\") # print(\"Hello World!_2\") 這裡不會被執行"
   ]
  }
 ],
 "metadata": {
  "kernelspec": {
   "display_name": "Python 3",
   "language": "python",
   "name": "python3"
  },
  "language_info": {
   "codemirror_mode": {
    "name": "ipython",
    "version": 3
   },
   "file_extension": ".py",
   "mimetype": "text/x-python",
   "name": "python",
   "nbconvert_exporter": "python",
   "pygments_lexer": "ipython3",
   "version": "3.7.6"
  }
 },
 "nbformat": 4,
 "nbformat_minor": 4
}
